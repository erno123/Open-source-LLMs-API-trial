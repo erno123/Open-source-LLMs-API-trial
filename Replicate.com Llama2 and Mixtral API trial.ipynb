{
  "nbformat": 4,
  "nbformat_minor": 0,
  "metadata": {
    "colab": {
      "provenance": [],
      "toc_visible": true,
      "include_colab_link": true
    },
    "kernelspec": {
      "name": "python3",
      "display_name": "Python 3"
    },
    "language_info": {
      "name": "python"
    }
  },
  "cells": [
    {
      "cell_type": "markdown",
      "metadata": {
        "id": "view-in-github",
        "colab_type": "text"
      },
      "source": [
        "<a href=\"https://colab.research.google.com/github/erno123/Mistral-trial/blob/main/Replicate.ipynb\" target=\"_parent\"><img src=\"https://colab.research.google.com/assets/colab-badge.svg\" alt=\"Open In Colab\"/></a>"
      ]
    },
    {
      "cell_type": "markdown",
      "source": [
        "# Getting Started with Replicate\n",
        "This notebook shows how to run models on [Replicate](https://replicate.com).\n",
        "\n",
        "Last updated: 2024-01-17"
      ],
      "metadata": {
        "id": "UXa9IwkeokWH"
      }
    },
    {
      "cell_type": "markdown",
      "source": [
        ">[Getting Started with Replicate](#scrollTo=UXa9IwkeokWH)\n",
        "\n",
        ">[Setup](#scrollTo=ep0A2pLDnoWK)\n",
        "\n",
        ">[Authenticate](#scrollTo=8BCZiwH6cLnv)\n",
        "\n",
        ">[Run a model](#scrollTo=Ax6xbVZOpnaV)\n",
        "\n"
      ],
      "metadata": {
        "colab_type": "toc",
        "id": "0rJP51rc6p3r"
      }
    },
    {
      "cell_type": "markdown",
      "source": [
        "# Setup\n",
        "\n",
        "To run this notebook, you’ll need to create a [Replicate](https://replicate.com) account and install the Replicate python client."
      ],
      "metadata": {
        "id": "ep0A2pLDnoWK"
      }
    },
    {
      "cell_type": "code",
      "source": [
        "# install replicate client\n",
        "!pip install replicate\n",
        "import replicate"
      ],
      "metadata": {
        "colab": {
          "base_uri": "https://localhost:8080/"
        },
        "id": "JLTW6u8LnkDg",
        "outputId": "fbeab903-372a-4120-d008-1182d035182e"
      },
      "execution_count": 1,
      "outputs": [
        {
          "output_type": "stream",
          "name": "stdout",
          "text": [
            "Collecting replicate\n",
            "  Downloading replicate-0.23.0-py3-none-any.whl (36 kB)\n",
            "Collecting httpx<1,>=0.21.0 (from replicate)\n",
            "  Downloading httpx-0.26.0-py3-none-any.whl (75 kB)\n",
            "\u001b[2K     \u001b[90m━━━━━━━━━━━━━━━━━━━━━━━━━━━━━━━━━━━━━━━━\u001b[0m \u001b[32m75.9/75.9 kB\u001b[0m \u001b[31m2.0 MB/s\u001b[0m eta \u001b[36m0:00:00\u001b[0m\n",
            "\u001b[?25hRequirement already satisfied: packaging in /usr/local/lib/python3.10/dist-packages (from replicate) (23.2)\n",
            "Requirement already satisfied: pydantic>1 in /usr/local/lib/python3.10/dist-packages (from replicate) (1.10.13)\n",
            "Requirement already satisfied: typing-extensions>=4.5.0 in /usr/local/lib/python3.10/dist-packages (from replicate) (4.5.0)\n",
            "Requirement already satisfied: anyio in /usr/local/lib/python3.10/dist-packages (from httpx<1,>=0.21.0->replicate) (3.7.1)\n",
            "Requirement already satisfied: certifi in /usr/local/lib/python3.10/dist-packages (from httpx<1,>=0.21.0->replicate) (2023.11.17)\n",
            "Collecting httpcore==1.* (from httpx<1,>=0.21.0->replicate)\n",
            "  Downloading httpcore-1.0.2-py3-none-any.whl (76 kB)\n",
            "\u001b[2K     \u001b[90m━━━━━━━━━━━━━━━━━━━━━━━━━━━━━━━━━━━━━━━━\u001b[0m \u001b[32m76.9/76.9 kB\u001b[0m \u001b[31m5.9 MB/s\u001b[0m eta \u001b[36m0:00:00\u001b[0m\n",
            "\u001b[?25hRequirement already satisfied: idna in /usr/local/lib/python3.10/dist-packages (from httpx<1,>=0.21.0->replicate) (3.6)\n",
            "Requirement already satisfied: sniffio in /usr/local/lib/python3.10/dist-packages (from httpx<1,>=0.21.0->replicate) (1.3.0)\n",
            "Collecting h11<0.15,>=0.13 (from httpcore==1.*->httpx<1,>=0.21.0->replicate)\n",
            "  Downloading h11-0.14.0-py3-none-any.whl (58 kB)\n",
            "\u001b[2K     \u001b[90m━━━━━━━━━━━━━━━━━━━━━━━━━━━━━━━━━━━━━━━━\u001b[0m \u001b[32m58.3/58.3 kB\u001b[0m \u001b[31m5.4 MB/s\u001b[0m eta \u001b[36m0:00:00\u001b[0m\n",
            "\u001b[?25hRequirement already satisfied: exceptiongroup in /usr/local/lib/python3.10/dist-packages (from anyio->httpx<1,>=0.21.0->replicate) (1.2.0)\n",
            "Installing collected packages: h11, httpcore, httpx, replicate\n",
            "Successfully installed h11-0.14.0 httpcore-1.0.2 httpx-0.26.0 replicate-0.23.0\n"
          ]
        }
      ]
    },
    {
      "cell_type": "markdown",
      "source": [
        "# Authenticate\n",
        "Before running any Python scripts that use the API, you need to set your Replicate API token in your environment.\n",
        "\n",
        "Grab your token from replicate.com/account and set it as an environment variable:\n",
        "\n",
        "export REPLICATE_API_TOKEN=<your token>\n",
        "We recommend not adding the token directly to your source code, because you don't want to put your credentials in source control. If anyone used your API key, their usage would be charged to your account."
      ],
      "metadata": {
        "id": "8BCZiwH6cLnv"
      }
    },
    {
      "cell_type": "code",
      "source": [
        "# get a token: https://replicate.com/account\n",
        "from getpass import getpass\n",
        "import os\n",
        "\n",
        "REPLICATE_API_TOKEN = getpass()\n",
        "os.environ[\"REPLICATE_API_TOKEN\"] = REPLICATE_API_TOKEN"
      ],
      "metadata": {
        "colab": {
          "base_uri": "https://localhost:8080/"
        },
        "id": "5ZTkrAUhoIJE",
        "outputId": "ff1cbe88-2b4c-49a5-d623-f560081a3e94"
      },
      "execution_count": 2,
      "outputs": [
        {
          "name": "stdout",
          "output_type": "stream",
          "text": [
            "··········\n"
          ]
        }
      ]
    },
    {
      "cell_type": "markdown",
      "source": [
        "# Run a model\n",
        "You can run any public model on Replicate from your Python code. The following example runs [stability-ai/stable-diffusion](https://replicate.com/stability-ai/stable-diffusion):"
      ],
      "metadata": {
        "id": "Ax6xbVZOpnaV"
      }
    },
    {
      "cell_type": "code",
      "source": [
        "# Llama2 with streaming but without linebreaks, verison 1.\n",
        "# (There are only streaming LLMs on replicate.com)\n",
        "\n",
        "output = replicate.run(\n",
        "    \"meta/llama-2-70b-chat\",\n",
        "    input={\n",
        "        \"top_p\": 1,\n",
        "        \"prompt\": \"Who was Albert Einstein?\",\n",
        "        \"temperature\": 1,\n",
        "        \"system_prompt\": \"You are a helpful, respectful and honest assistant who has to answer questions in a funny style.\",\n",
        "        \"max_new_tokens\": 256,\n",
        "        \"repetition_penalty\": 1\n",
        "    }\n",
        ")\n",
        "\n",
        "for text in output:\n",
        "      print(text, end=\"\")"
      ],
      "metadata": {
        "colab": {
          "base_uri": "https://localhost:8080/"
        },
        "id": "Ct61mkkLPobS",
        "outputId": "dc0300dd-ac08-4b9f-8502-a5f7b1303606"
      },
      "execution_count": 3,
      "outputs": [
        {
          "output_type": "stream",
          "name": "stdout",
          "text": [
            "Oh, you want to know about Albert Einstein? Well, let me tell you, he was a real smarty pants, that one! He was a physicist, mathematician, and all-around genius who kicked some serious butt in the science world. He's best known for his theory of relativity and that famous equation E=mc². But let's be real, he was basically a superhero, saving the world from boring science one equation at a time!"
          ]
        }
      ]
    },
    {
      "cell_type": "code",
      "source": [
        "# Llama2 with streaming and without linebreaks, verison 2.\n",
        "# (There are only streaming LLMs on replicate.com)\n",
        "\n",
        "for event in replicate.stream(\n",
        "    \"meta/llama-2-70b-chat\",\n",
        "    input={\n",
        "        \"top_p\": 1,\n",
        "        \"prompt\": \"Who was Albert Einstein?\",\n",
        "        \"temperature\": 1,\n",
        "        \"system_prompt\": \"You are a helpful, respectful and honest assistant who has to answer questions in a funny style.\",\n",
        "        \"max_new_tokens\": 256,\n",
        "        \"repetition_penalty\": 1\n",
        "    },\n",
        "):\n",
        "    print(str(event), end=\"\")"
      ],
      "metadata": {
        "colab": {
          "base_uri": "https://localhost:8080/"
        },
        "id": "O3umCYyDZn5y",
        "outputId": "5ba8cac8-4784-4034-89b8-89d2f97e24c0"
      },
      "execution_count": 4,
      "outputs": [
        {
          "output_type": "stream",
          "name": "stdout",
          "text": [
            "Albert Einstein? The guy was a total genius, dude! Like, he was basically the smartest person in the world, and I'm not just talking about physics. I mean, have you seen his hair? That's some next-level hair game right there. But seriously, Einstein was a physicist who came up with some pretty mind-blowing theories, like relativity and stuff. He also had a pretty cool mustache. I mean, if I could grow a mustache like that, I'd totally rock it. But let's be real, I'm just an AI, I don't have a face, so I'll just stick to being funny and helpful. So, what else do you want to know, human?"
          ]
        }
      ]
    },
    {
      "cell_type": "code",
      "source": [
        "# Llama2 with streaming and linebreaks\n",
        "# (There are only streaming LLMs on replicate.com)\n",
        "\n",
        "iterator = replicate.run(\n",
        "    \"meta/llama-2-70b-chat\",\n",
        "    input={\n",
        "        \"top_p\": 1,\n",
        "        \"prompt\": \"Who was Albert Einstein?\",\n",
        "        \"temperature\": 1,\n",
        "        \"system_prompt\": \"You are a helpful, respectful and honest assistant who has to answer questions in a funny style.\",\n",
        "        \"max_new_tokens\": 256,\n",
        "        \"repetition_penalty\": 1\n",
        "    }\n",
        ")\n",
        "\n",
        "line_length = 0\n",
        "for text in iterator:\n",
        "      print(text, end=\"\")\n",
        "      line_length += len(text)\n",
        "      if line_length > 100:\n",
        "        print(\"\")\n",
        "        line_length = 0\n"
      ],
      "metadata": {
        "colab": {
          "base_uri": "https://localhost:8080/"
        },
        "id": "eQCcYU6_nXub",
        "outputId": "8b5e35eb-e3f5-44b7-b6b9-b9737cbca723"
      },
      "execution_count": 5,
      "outputs": [
        {
          "output_type": "stream",
          "name": "stdout",
          "text": [
            "Albert Einstein? Hmm, let me see... I believe he was a famous physicist, or as I like to call him, a \"\n",
            "time-traveling, gravity-defying, genius-level smarty pants.\" But don't just take my word for it, folks\n",
            "! Einstein's work in theoretical physics and relativity will make your head spin, in a good way, of course\n",
            ". Just think of him as the \"Stephen Hawking of the early 20th century\" (rip). Now, if you'll excuse me\n",
            ", I've got some gravity-defying of my own to attend to. That's all, folks!"
          ]
        }
      ]
    },
    {
      "cell_type": "code",
      "source": [
        "# mistralai/mixtral-8x7b-instruct-v0.1 with streaming but without linebreaks\n",
        "# (There are only streaming LLMs on replicate.com)\n",
        "\n",
        "system_prompt = \"You are a helpful, respectful and honest assistant who has to answer questions in a funny style.\"\n",
        "for event in replicate.stream(\n",
        "    \"mistralai/mixtral-8x7b-instruct-v0.1\",\n",
        "    input={\n",
        "        \"top_k\": 50,\n",
        "        \"top_p\": 0.9,\n",
        "        \"prompt\": f\"{system_prompt} Who was Albert Einstein?\",\n",
        "        \"temperature\": 1,\n",
        "        \"max_new_tokens\": 256,\n",
        "        \"prompt_template\": \"<s>[INST] {prompt} [/INST]\"},\n",
        "):\n",
        "    print(str(event), end=\"\")"
      ],
      "metadata": {
        "colab": {
          "base_uri": "https://localhost:8080/"
        },
        "id": "vXjA9e3lSRDs",
        "outputId": "a51219d4-6f4f-4c53-e3e6-9da9da3eb58d"
      },
      "execution_count": 6,
      "outputs": [
        {
          "output_type": "stream",
          "name": "stdout",
          "text": [
            "\n",
            " Ah, Albert Einstein! He's the guy who made physics as cool as riding a rollercoaster, but with less vomit at the end. A theoretical physicist who came up with the famous equation E=mc^2, which is basically saying energy (E) is equal to mass (m) times the speed of light (c) squared. So, in other words, if you could turn your dog into a rocket, you'd need to give it a good ol' speed of light squared boost! But don't try that at home, kids. We don't have enough cheese in the world to lure the dog back.\n",
            "\n",
            "Einstein was also known for his wacky hairdo and love of sailing - it's just too bad his boat was as slow as watching paint dry on a tortoise. The man gave us groundbreaking theories about space, time, and energy, yet his boat barely moved. Go figure!"
          ]
        }
      ]
    },
    {
      "cell_type": "code",
      "source": [
        "# mistralai/mixtral-8x7b-instruct-v0.1 with streaming and linebreaks\n",
        "# (There are only streaming LLMs on replicate.com)\n",
        "\n",
        "line_length = 0\n",
        "system_prompt = \"You are a helpful, respectful and honest assistant who has to answer questions in a funny style.\"\n",
        "for event in replicate.stream(\n",
        "    \"mistralai/mixtral-8x7b-instruct-v0.1\",\n",
        "    input={\n",
        "        \"top_k\": 50,\n",
        "        \"top_p\": 0.9,\n",
        "        \"prompt\": f\"{system_prompt} Who was Albert Einstein?\",\n",
        "        \"temperature\": 1,\n",
        "        \"max_new_tokens\": 256,\n",
        "        \"prompt_template\": \"<s>[INST] {prompt} [/INST]\"},\n",
        "):\n",
        "    text = str(event)\n",
        "    print(text, end=\"\")\n",
        "    line_length += len(text)\n",
        "    if line_length > 100:\n",
        "      print(\"\")\n",
        "      line_length = 0"
      ],
      "metadata": {
        "colab": {
          "base_uri": "https://localhost:8080/"
        },
        "id": "1H4MHTUEUH7s",
        "outputId": "80e9a9ce-1e1b-4786-cabc-e7cca1b9a9e5"
      },
      "execution_count": 7,
      "outputs": [
        {
          "output_type": "stream",
          "name": "stdout",
          "text": [
            "\n",
            "\n",
            " Oh, Albert Einstein, the time-traveling, patent-office-working, wild-haired genius! Born in 1879, this\n",
            " guy was so smart that he couldn't stand the thought of not having a mustache (okay, maybe not that, but still\n",
            " pretty cool).\n",
            "\n",
            "He's best known for his theory of relativity, which made him the celebrity of the science\n",
            " world - basically the Kim Kardashian of physics. You've probably heard of his famous equation, E=mc^\n",
            "2, right? That's like saying \"Energy equals Macaroni and Cheese squared.\" Wait, that's not right... Let me\n",
            " try again. It's like saying \"Energy equals Mass times Speed of Light, squared.\" Yeah, much better.\n",
            "\n",
            "\n",
            "Anyway, thanks to Einstein, we now understand that space and time are intertwined like a pretzel of cos\n",
            "mic proportions. It's a good thing he never became a baker - imagine trying to measure your cookies in\n",
            " light-years instead of inches!\n",
            "\n",
            "So, next time you're pondering the mysteries of the universe, take a moment\n",
            " to thank this funny"
          ]
        }
      ]
    },
    {
      "cell_type": "code",
      "source": [],
      "metadata": {
        "id": "JIjMSCHnezDy"
      },
      "execution_count": 7,
      "outputs": []
    }
  ]
}
