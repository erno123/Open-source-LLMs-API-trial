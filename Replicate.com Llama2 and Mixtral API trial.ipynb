{
  "nbformat": 4,
  "nbformat_minor": 0,
  "metadata": {
    "colab": {
      "provenance": [],
      "toc_visible": true,
      "include_colab_link": true
    },
    "kernelspec": {
      "name": "python3",
      "display_name": "Python 3"
    },
    "language_info": {
      "name": "python"
    }
  },
  "cells": [
    {
      "cell_type": "markdown",
      "metadata": {
        "id": "view-in-github",
        "colab_type": "text"
      },
      "source": [
        "<a href=\"https://colab.research.google.com/github/erno123/Open-source-LLMs-API-trial/blob/main/Replicate.com%20Llama2%20and%20Mixtral%20API%20trial.ipynb\" target=\"_parent\"><img src=\"https://colab.research.google.com/assets/colab-badge.svg\" alt=\"Open In Colab\"/></a>"
      ]
    },
    {
      "cell_type": "markdown",
      "source": [
        "# Getting Started with Replicate\n",
        "This notebook shows how to run models on [Replicate](https://replicate.com).\n",
        "\n",
        "Last updated: 2024-01-17"
      ],
      "metadata": {
        "id": "UXa9IwkeokWH"
      }
    },
    {
      "cell_type": "markdown",
      "source": [
        ">[Getting Started with Replicate](#scrollTo=UXa9IwkeokWH)\n",
        "\n",
        ">[Setup](#scrollTo=ep0A2pLDnoWK)\n",
        "\n",
        ">[Authenticate](#scrollTo=8BCZiwH6cLnv)\n",
        "\n",
        ">[Run a model](#scrollTo=Ax6xbVZOpnaV)\n",
        "\n"
      ],
      "metadata": {
        "colab_type": "toc",
        "id": "0rJP51rc6p3r"
      }
    },
    {
      "cell_type": "markdown",
      "source": [
        "# Setup\n",
        "\n",
        "To run this notebook, you’ll need to create a [Replicate](https://replicate.com) account and install the Replicate python client."
      ],
      "metadata": {
        "id": "ep0A2pLDnoWK"
      }
    },
    {
      "cell_type": "code",
      "source": [
        "# install replicate client\n",
        "!pip install replicate\n",
        "import replicate"
      ],
      "metadata": {
        "colab": {
          "base_uri": "https://localhost:8080/"
        },
        "id": "JLTW6u8LnkDg",
        "outputId": "e24aafe2-8329-47b4-db94-c9091aa965ed"
      },
      "execution_count": 1,
      "outputs": [
        {
          "output_type": "stream",
          "name": "stdout",
          "text": [
            "Collecting replicate\n",
            "  Downloading replicate-0.23.0-py3-none-any.whl (36 kB)\n",
            "Collecting httpx<1,>=0.21.0 (from replicate)\n",
            "  Downloading httpx-0.26.0-py3-none-any.whl (75 kB)\n",
            "\u001b[2K     \u001b[90m━━━━━━━━━━━━━━━━━━━━━━━━━━━━━━━━━━━━━━━━\u001b[0m \u001b[32m75.9/75.9 kB\u001b[0m \u001b[31m3.1 MB/s\u001b[0m eta \u001b[36m0:00:00\u001b[0m\n",
            "\u001b[?25hRequirement already satisfied: packaging in /usr/local/lib/python3.10/dist-packages (from replicate) (23.2)\n",
            "Requirement already satisfied: pydantic>1 in /usr/local/lib/python3.10/dist-packages (from replicate) (1.10.13)\n",
            "Requirement already satisfied: typing-extensions>=4.5.0 in /usr/local/lib/python3.10/dist-packages (from replicate) (4.5.0)\n",
            "Requirement already satisfied: anyio in /usr/local/lib/python3.10/dist-packages (from httpx<1,>=0.21.0->replicate) (3.7.1)\n",
            "Requirement already satisfied: certifi in /usr/local/lib/python3.10/dist-packages (from httpx<1,>=0.21.0->replicate) (2023.11.17)\n",
            "Collecting httpcore==1.* (from httpx<1,>=0.21.0->replicate)\n",
            "  Downloading httpcore-1.0.2-py3-none-any.whl (76 kB)\n",
            "\u001b[2K     \u001b[90m━━━━━━━━━━━━━━━━━━━━━━━━━━━━━━━━━━━━━━━━\u001b[0m \u001b[32m76.9/76.9 kB\u001b[0m \u001b[31m4.4 MB/s\u001b[0m eta \u001b[36m0:00:00\u001b[0m\n",
            "\u001b[?25hRequirement already satisfied: idna in /usr/local/lib/python3.10/dist-packages (from httpx<1,>=0.21.0->replicate) (3.6)\n",
            "Requirement already satisfied: sniffio in /usr/local/lib/python3.10/dist-packages (from httpx<1,>=0.21.0->replicate) (1.3.0)\n",
            "Collecting h11<0.15,>=0.13 (from httpcore==1.*->httpx<1,>=0.21.0->replicate)\n",
            "  Downloading h11-0.14.0-py3-none-any.whl (58 kB)\n",
            "\u001b[2K     \u001b[90m━━━━━━━━━━━━━━━━━━━━━━━━━━━━━━━━━━━━━━━━\u001b[0m \u001b[32m58.3/58.3 kB\u001b[0m \u001b[31m4.8 MB/s\u001b[0m eta \u001b[36m0:00:00\u001b[0m\n",
            "\u001b[?25hRequirement already satisfied: exceptiongroup in /usr/local/lib/python3.10/dist-packages (from anyio->httpx<1,>=0.21.0->replicate) (1.2.0)\n",
            "Installing collected packages: h11, httpcore, httpx, replicate\n",
            "Successfully installed h11-0.14.0 httpcore-1.0.2 httpx-0.26.0 replicate-0.23.0\n"
          ]
        }
      ]
    },
    {
      "cell_type": "markdown",
      "source": [
        "# Authenticate\n",
        "Before running any Python scripts that use the API, you need to set your Replicate API token in your environment.\n",
        "\n",
        "Grab your token from replicate.com/account and set it as an environment variable:\n",
        "\n",
        "export REPLICATE_API_TOKEN=<your token>\n",
        "We recommend not adding the token directly to your source code, because you don't want to put your credentials in source control. If anyone used your API key, their usage would be charged to your account."
      ],
      "metadata": {
        "id": "8BCZiwH6cLnv"
      }
    },
    {
      "cell_type": "code",
      "source": [
        "# get a token: https://replicate.com/account\n",
        "from getpass import getpass\n",
        "import os\n",
        "\n",
        "REPLICATE_API_TOKEN = getpass()\n",
        "os.environ[\"REPLICATE_API_TOKEN\"] = REPLICATE_API_TOKEN"
      ],
      "metadata": {
        "colab": {
          "base_uri": "https://localhost:8080/"
        },
        "id": "5ZTkrAUhoIJE",
        "outputId": "31f75084-7c83-4ba1-fcfc-47147405eaed"
      },
      "execution_count": 2,
      "outputs": [
        {
          "name": "stdout",
          "output_type": "stream",
          "text": [
            "··········\n"
          ]
        }
      ]
    },
    {
      "cell_type": "markdown",
      "source": [
        "# Run a model\n",
        "You can run any public model on Replicate from your Python code. The following example runs [stability-ai/stable-diffusion](https://replicate.com/stability-ai/stable-diffusion):"
      ],
      "metadata": {
        "id": "Ax6xbVZOpnaV"
      }
    },
    {
      "cell_type": "code",
      "source": [
        "# Llama2 with streaming but without linebreaks, verison 1.\n",
        "# (There are only streaming LLMs on replicate.com)\n",
        "\n",
        "output = replicate.run(\n",
        "    \"meta/llama-2-70b-chat\",\n",
        "    input={\n",
        "        \"top_p\": 1,\n",
        "        \"prompt\": \"Who was Albert Einstein?\",\n",
        "        \"temperature\": 1,\n",
        "        \"system_prompt\": \"You are a helpful, respectful and honest assistant who has to answer questions in a funny style.\",\n",
        "        \"max_new_tokens\": 256,\n",
        "        \"repetition_penalty\": 1\n",
        "    }\n",
        ")\n",
        "\n",
        "for text in output:\n",
        "      print(text, end=\"\")"
      ],
      "metadata": {
        "colab": {
          "base_uri": "https://localhost:8080/"
        },
        "id": "Ct61mkkLPobS",
        "outputId": "5b1f48ec-cb13-4bf0-c41e-9bc5580c99ff"
      },
      "execution_count": 3,
      "outputs": [
        {
          "output_type": "stream",
          "name": "stdout",
          "text": [
            "Albert Einstein, you say? Well, he was a guy who was really good at math and science and stuff. Like, he was basically a genius or something. But let's be real, who isn't a genius these days? I mean, have you seen all the cat videos on YouTube? People are basically geniuses at watching cats do silly things. But I digress, Einstein did some pretty cool things like coming up with that whole E=mc^2 thing and he also had some wild hair. I mean, it's like he stuck his finger in a light socket and it just decided to do its own thing. But hey, being a genius isn't all it's cracked up to be, sometimes you gotta have a little bit of crazy hair to really make a mark in the world. Just saying."
          ]
        }
      ]
    },
    {
      "cell_type": "code",
      "source": [
        "# Llama2 with streaming and without linebreaks, verison 2.\n",
        "# (There are only streaming LLMs on replicate.com)\n",
        "\n",
        "for event in replicate.stream(\n",
        "    \"meta/llama-2-70b-chat\",\n",
        "    input={\n",
        "        \"top_p\": 1,\n",
        "        \"prompt\": \"Who was Albert Einstein?\",\n",
        "        \"temperature\": 1,\n",
        "        \"system_prompt\": \"You are a helpful, respectful and honest assistant who has to answer questions in a funny style.\",\n",
        "        \"max_new_tokens\": 256,\n",
        "        \"repetition_penalty\": 1\n",
        "    },\n",
        "):\n",
        "    print(str(event), end=\"\")"
      ],
      "metadata": {
        "colab": {
          "base_uri": "https://localhost:8080/"
        },
        "id": "O3umCYyDZn5y",
        "outputId": "7466b5ff-c30d-4890-87c4-82d8793599ac"
      },
      "execution_count": 4,
      "outputs": [
        {
          "output_type": "stream",
          "name": "stdout",
          "text": [
            "Albert Einstein, you say? Well, let me tell you, he was a bit of a brainiac, that one. Like, he was practically a genius, or something. He had some crazy hair, too. I mean, it was like he stuck his finger in a light socket and it just decided to do its own thing. But hey, at least he didn' Nigerian prince'd us with his science-y stuff, right? I mean, have you seen his famous equation, E=mc²? It's like, \"Hey, you got your mass and energy in my speed squared, and your speed squared in my mass and energy, and... uh, well, you get the idea.\" Genius, I tell ya. Pure, unadulterated, lab-coat-wearing, formula-scribbling, prestidigitation-practicing genius."
          ]
        }
      ]
    },
    {
      "cell_type": "code",
      "source": [
        "# Llama2 with streaming and linebreaks\n",
        "# (There are only streaming LLMs on replicate.com)\n",
        "\n",
        "iterator = replicate.run(\n",
        "    \"meta/llama-2-70b-chat\",\n",
        "    input={\n",
        "        \"top_p\": 1,\n",
        "        \"prompt\": \"Who was Albert Einstein?\",\n",
        "        \"temperature\": 1,\n",
        "        \"system_prompt\": \"You are a helpful, respectful and honest assistant who has to answer questions in a funny style.\",\n",
        "        \"max_new_tokens\": 256,\n",
        "        \"repetition_penalty\": 1\n",
        "    }\n",
        ")\n",
        "\n",
        "line_length = 0\n",
        "for text in iterator:\n",
        "      print(text, end=\"\")\n",
        "      line_length += len(text)\n",
        "      if line_length > 100:\n",
        "        print(\"\")\n",
        "        line_length = 0\n"
      ],
      "metadata": {
        "colab": {
          "base_uri": "https://localhost:8080/"
        },
        "id": "eQCcYU6_nXub",
        "outputId": "244f6543-2437-4f78-c6a5-2afe3b261171"
      },
      "execution_count": 5,
      "outputs": [
        {
          "output_type": "stream",
          "name": "stdout",
          "text": [
            "Albert Einstein? Oh, you know, just your typical, run-of-the-mill genius who changed the way we understand\n",
            " the universe. He was like the Stephen Hawking of his time, but with fewer TV appearances and more hair\n",
            ". In fact, his hair was so iconic, it' EP05itted  into the popular phrase \"Einstein hair.\" But let's not\n",
            " get too hung up on his looks, folks. The man was a freakin' genius! He basically reinvented the way we\n",
            " think about space and time. Like, who else could make E=mc^2 sound like a simple equation? Sorry, what\n",
            " was that? Yes, he also won a Nobel Prize. No big deal. He just casually reshaped the way we think about\n",
            " physics. BRB, brain explosion!"
          ]
        }
      ]
    },
    {
      "cell_type": "code",
      "source": [
        "# mistralai/mixtral-8x7b-instruct-v0.1 with streaming but without linebreaks\n",
        "# (There are only streaming LLMs on replicate.com)\n",
        "\n",
        "system_prompt = \"You are a helpful, respectful and honest assistant who has to answer questions in a funny style.\"\n",
        "for event in replicate.stream(\n",
        "    \"mistralai/mixtral-8x7b-instruct-v0.1\",\n",
        "    input={\n",
        "        \"top_k\": 50,\n",
        "        \"top_p\": 0.9,\n",
        "        \"prompt\": f\"{system_prompt} Who was Albert Einstein?\",\n",
        "        \"temperature\": 1,\n",
        "        \"max_new_tokens\": 256,\n",
        "        \"prompt_template\": \"<s>[INST] {prompt} [/INST]\"},\n",
        "):\n",
        "    print(str(event), end=\"\")"
      ],
      "metadata": {
        "colab": {
          "base_uri": "https://localhost:8080/"
        },
        "id": "vXjA9e3lSRDs",
        "outputId": "96298d49-75e8-476a-c974-80c8971dd23e"
      },
      "execution_count": 6,
      "outputs": [
        {
          "output_type": "stream",
          "name": "stdout",
          "text": [
            "\n",
            " Albert Einstein, the time-traveling patent office clerk who came up with the theory of relativity while riding his bike! Well, not really, but that would've been an exciting story, don't you think? In actuality, he was a brilliant physicist and mathematician who developed the famous equation, E=mc².\n",
            "\n",
            "Imagine if Einstein were here today; he'd probably have a field day explaining dark energy and quantum mechanics with his fabulous hair and humorous anecdotes! Just picture him in jeans and a cool t-shirt saying, \"It's all relative... especially when it comes to deciding who gets the last slice of pizza!\""
          ]
        }
      ]
    },
    {
      "cell_type": "code",
      "source": [
        "# mistralai/mixtral-8x7b-instruct-v0.1 with streaming and linebreaks\n",
        "# (There are only streaming LLMs on replicate.com)\n",
        "\n",
        "line_length = 0\n",
        "system_prompt = \"You are a helpful, respectful and honest assistant who has to answer questions in a funny style.\"\n",
        "for event in replicate.stream(\n",
        "    \"mistralai/mixtral-8x7b-instruct-v0.1\",\n",
        "    input={\n",
        "        \"top_k\": 50,\n",
        "        \"top_p\": 0.9,\n",
        "        \"prompt\": f\"{system_prompt} Who was Albert Einstein?\",\n",
        "        \"temperature\": 1,\n",
        "        \"max_new_tokens\": 256,\n",
        "        \"prompt_template\": \"<s>[INST] {prompt} [/INST]\"},\n",
        "):\n",
        "    text = str(event)\n",
        "    print(text, end=\"\")\n",
        "    line_length += len(text)\n",
        "    if line_length > 100:\n",
        "      print(\"\")\n",
        "      line_length = 0"
      ],
      "metadata": {
        "colab": {
          "base_uri": "https://localhost:8080/"
        },
        "id": "1H4MHTUEUH7s",
        "outputId": "1861fa4d-cd87-4e27-fab8-df5a90df9246"
      },
      "execution_count": 7,
      "outputs": [
        {
          "output_type": "stream",
          "name": "stdout",
          "text": [
            "\n",
            "\n",
            " Albert Einstein, the time-traveling genius-rocker with wild hair and a genius-stick (also known as a\n",
            " chalkboard), was born in Germany but later became a citizen of the United States. He's best known for\n",
            " his theory of relativity, which is basically the idea that if you're running late, time actually slows down\n",
            " to annoy you even further.\n",
            "\n",
            "When he wasn't busy derping physicists with his mind, he played the violin\n",
            " like a boss, proving that smart people can indeed have fun too! And while I can't confirm if he ever time\n",
            "-traveled to prank his younger self, I'm told that his favorite cereal was definitely \"Relativi-O's: The\n",
            " Cereal of Space-Time.\" Because who doesn't love a good bowl of puns with their quantum mechanics?"
          ]
        }
      ]
    },
    {
      "cell_type": "code",
      "source": [],
      "metadata": {
        "id": "JIjMSCHnezDy"
      },
      "execution_count": 7,
      "outputs": []
    }
  ]
}